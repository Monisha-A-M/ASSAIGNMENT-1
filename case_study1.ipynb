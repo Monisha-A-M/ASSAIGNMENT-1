{
  "nbformat": 4,
  "nbformat_minor": 0,
  "metadata": {
    "colab": {
      "name": "case_study1.ipynb",
      "provenance": [],
      "collapsed_sections": [],
      "authorship_tag": "ABX9TyPipqFAb3qjBFRGHJZK+9q4",
      "include_colab_link": true
    },
    "kernelspec": {
      "name": "python3",
      "display_name": "Python 3"
    },
    "language_info": {
      "name": "python"
    }
  },
  "cells": [
    {
      "cell_type": "markdown",
      "metadata": {
        "id": "view-in-github",
        "colab_type": "text"
      },
      "source": [
        "<a href=\"https://colab.research.google.com/github/Monisha-A-M/ASSAIGNMENT-1/blob/main/case_study1.ipynb\" target=\"_parent\"><img src=\"https://colab.research.google.com/assets/colab-badge.svg\" alt=\"Open In Colab\"/></a>"
      ]
    },
    {
      "cell_type": "code",
      "metadata": {
        "id": "TeQ9CXa7SrCd"
      },
      "source": [
        "import pandas as pd\n",
        "import matplotlib.pyplot as plt\n",
        "import seaborn as sns\n"
      ],
      "execution_count": 3,
      "outputs": []
    },
    {
      "cell_type": "markdown",
      "metadata": {
        "id": "NX89PwI9TJ61"
      },
      "source": [
        "# ***TO READ DATASET TO PYTHON***"
      ]
    },
    {
      "cell_type": "code",
      "metadata": {
        "colab": {
          "base_uri": "https://localhost:8080/",
          "height": 278
        },
        "id": "KQ854gdcTWkA",
        "outputId": "9b3f2624-4d73-4c7d-fbdf-860645536e03"
      },
      "source": [
        "data=pd.read_csv('cars_data.csv')\n",
        "data.head()"
      ],
      "execution_count": 4,
      "outputs": [
        {
          "output_type": "execute_result",
          "data": {
            "text/html": [
              "<div>\n",
              "<style scoped>\n",
              "    .dataframe tbody tr th:only-of-type {\n",
              "        vertical-align: middle;\n",
              "    }\n",
              "\n",
              "    .dataframe tbody tr th {\n",
              "        vertical-align: top;\n",
              "    }\n",
              "\n",
              "    .dataframe thead th {\n",
              "        text-align: right;\n",
              "    }\n",
              "</style>\n",
              "<table border=\"1\" class=\"dataframe\">\n",
              "  <thead>\n",
              "    <tr style=\"text-align: right;\">\n",
              "      <th></th>\n",
              "      <th>Make</th>\n",
              "      <th>Model</th>\n",
              "      <th>Nickname</th>\n",
              "      <th>Car Gender</th>\n",
              "      <th>Buyer Gender</th>\n",
              "      <th>Buyer Age</th>\n",
              "      <th>Buzzword</th>\n",
              "      <th>Country</th>\n",
              "      <th>City</th>\n",
              "      <th>Dealer Latitude</th>\n",
              "      <th>Dealer Longitude</th>\n",
              "      <th>Color</th>\n",
              "      <th>New Car</th>\n",
              "      <th>Purchase Date</th>\n",
              "      <th>Sale Price</th>\n",
              "      <th>Discount</th>\n",
              "      <th>Resell Price</th>\n",
              "      <th>5-yr Depreciation</th>\n",
              "      <th>Top Speed</th>\n",
              "      <th>0-60 Time</th>\n",
              "    </tr>\n",
              "  </thead>\n",
              "  <tbody>\n",
              "    <tr>\n",
              "      <th>0</th>\n",
              "      <td>Suzuki</td>\n",
              "      <td>Vitara</td>\n",
              "      <td>Philippine</td>\n",
              "      <td>Female</td>\n",
              "      <td>Female</td>\n",
              "      <td>51</td>\n",
              "      <td>User-friendly</td>\n",
              "      <td>Belgium</td>\n",
              "      <td>Antwerpen</td>\n",
              "      <td>51.247239</td>\n",
              "      <td>4.440346</td>\n",
              "      <td>Yellow</td>\n",
              "      <td>False</td>\n",
              "      <td>19/07/2009</td>\n",
              "      <td>54806.14</td>\n",
              "      <td>0.2467</td>\n",
              "      <td>33858.32</td>\n",
              "      <td>0.13</td>\n",
              "      <td>200.9</td>\n",
              "      <td>11.5</td>\n",
              "    </tr>\n",
              "    <tr>\n",
              "      <th>1</th>\n",
              "      <td>Honda</td>\n",
              "      <td>S2000</td>\n",
              "      <td>Henrik</td>\n",
              "      <td>Male</td>\n",
              "      <td>Male</td>\n",
              "      <td>30</td>\n",
              "      <td>analyzing</td>\n",
              "      <td>China</td>\n",
              "      <td>Jinhu</td>\n",
              "      <td>33.025433</td>\n",
              "      <td>119.020584</td>\n",
              "      <td>Crimson</td>\n",
              "      <td>False</td>\n",
              "      <td>26/10/2015</td>\n",
              "      <td>51826.30</td>\n",
              "      <td>0.3147</td>\n",
              "      <td>2989.28</td>\n",
              "      <td>0.02</td>\n",
              "      <td>158.5</td>\n",
              "      <td>8.8</td>\n",
              "    </tr>\n",
              "    <tr>\n",
              "      <th>2</th>\n",
              "      <td>BMW</td>\n",
              "      <td>Z4</td>\n",
              "      <td>Lebbie</td>\n",
              "      <td>Male</td>\n",
              "      <td>Female</td>\n",
              "      <td>54</td>\n",
              "      <td>software</td>\n",
              "      <td>China</td>\n",
              "      <td>Gemo</td>\n",
              "      <td>30.916207</td>\n",
              "      <td>121.677640</td>\n",
              "      <td>Khaki</td>\n",
              "      <td>False</td>\n",
              "      <td>28/03/2010</td>\n",
              "      <td>82929.14</td>\n",
              "      <td>0.5414</td>\n",
              "      <td>35049.16</td>\n",
              "      <td>0.24</td>\n",
              "      <td>149.5</td>\n",
              "      <td>14.4</td>\n",
              "    </tr>\n",
              "    <tr>\n",
              "      <th>3</th>\n",
              "      <td>Toyota</td>\n",
              "      <td>Tacoma</td>\n",
              "      <td>Jefferey</td>\n",
              "      <td>Female</td>\n",
              "      <td>Male</td>\n",
              "      <td>68</td>\n",
              "      <td>monitoring</td>\n",
              "      <td>Portugal</td>\n",
              "      <td>Queluz de Baixo</td>\n",
              "      <td>38.745168</td>\n",
              "      <td>-9.267087</td>\n",
              "      <td>Puce</td>\n",
              "      <td>False</td>\n",
              "      <td>07/05/2008</td>\n",
              "      <td>56928.66</td>\n",
              "      <td>0.0850</td>\n",
              "      <td>8236.15</td>\n",
              "      <td>0.20</td>\n",
              "      <td>153.3</td>\n",
              "      <td>11.5</td>\n",
              "    </tr>\n",
              "    <tr>\n",
              "      <th>4</th>\n",
              "      <td>Ford</td>\n",
              "      <td>Festiva</td>\n",
              "      <td>Glendon</td>\n",
              "      <td>Female</td>\n",
              "      <td>Male</td>\n",
              "      <td>70</td>\n",
              "      <td>Sharable</td>\n",
              "      <td>Latvia</td>\n",
              "      <td>Jaunpils</td>\n",
              "      <td>56.729980</td>\n",
              "      <td>23.016588</td>\n",
              "      <td>Yellow</td>\n",
              "      <td>False</td>\n",
              "      <td>01/06/2008</td>\n",
              "      <td>77201.26</td>\n",
              "      <td>0.1642</td>\n",
              "      <td>32765.76</td>\n",
              "      <td>0.18</td>\n",
              "      <td>122.0</td>\n",
              "      <td>14.9</td>\n",
              "    </tr>\n",
              "  </tbody>\n",
              "</table>\n",
              "</div>"
            ],
            "text/plain": [
              "     Make    Model    Nickname  ... 5-yr Depreciation Top Speed  0-60 Time\n",
              "0  Suzuki   Vitara  Philippine  ...              0.13     200.9       11.5\n",
              "1   Honda    S2000      Henrik  ...              0.02     158.5        8.8\n",
              "2     BMW       Z4      Lebbie  ...              0.24     149.5       14.4\n",
              "3  Toyota   Tacoma    Jefferey  ...              0.20     153.3       11.5\n",
              "4    Ford  Festiva     Glendon  ...              0.18     122.0       14.9\n",
              "\n",
              "[5 rows x 20 columns]"
            ]
          },
          "metadata": {},
          "execution_count": 4
        }
      ]
    },
    {
      "cell_type": "markdown",
      "metadata": {
        "id": "xy2lr3rrXbjl"
      },
      "source": [
        "we use head() to display only four rows of the given table .\n",
        "inorder to display the complete table we called the variable name data."
      ]
    },
    {
      "cell_type": "code",
      "metadata": {
        "colab": {
          "base_uri": "https://localhost:8080/",
          "height": 524
        },
        "id": "FTyAYb5QVpLt",
        "outputId": "2439359c-30eb-49ec-8753-efe32ba457ab"
      },
      "source": [
        "data"
      ],
      "execution_count": null,
      "outputs": [
        {
          "output_type": "execute_result",
          "data": {
            "text/html": [
              "<div>\n",
              "<style scoped>\n",
              "    .dataframe tbody tr th:only-of-type {\n",
              "        vertical-align: middle;\n",
              "    }\n",
              "\n",
              "    .dataframe tbody tr th {\n",
              "        vertical-align: top;\n",
              "    }\n",
              "\n",
              "    .dataframe thead th {\n",
              "        text-align: right;\n",
              "    }\n",
              "</style>\n",
              "<table border=\"1\" class=\"dataframe\">\n",
              "  <thead>\n",
              "    <tr style=\"text-align: right;\">\n",
              "      <th></th>\n",
              "      <th>Make</th>\n",
              "      <th>Model</th>\n",
              "      <th>Nickname</th>\n",
              "      <th>Car Gender</th>\n",
              "      <th>Buyer Gender</th>\n",
              "      <th>Buyer Age</th>\n",
              "      <th>Buzzword</th>\n",
              "      <th>Country</th>\n",
              "      <th>City</th>\n",
              "      <th>Dealer Latitude</th>\n",
              "      <th>Dealer Longitude</th>\n",
              "      <th>Color</th>\n",
              "      <th>New Car</th>\n",
              "      <th>Purchase Date</th>\n",
              "      <th>Sale Price</th>\n",
              "      <th>Discount</th>\n",
              "      <th>Resell Price</th>\n",
              "      <th>5-yr Depreciation</th>\n",
              "      <th>Top Speed</th>\n",
              "      <th>0-60 Time</th>\n",
              "    </tr>\n",
              "  </thead>\n",
              "  <tbody>\n",
              "    <tr>\n",
              "      <th>0</th>\n",
              "      <td>Suzuki</td>\n",
              "      <td>Vitara</td>\n",
              "      <td>Philippine</td>\n",
              "      <td>Female</td>\n",
              "      <td>Female</td>\n",
              "      <td>51</td>\n",
              "      <td>User-friendly</td>\n",
              "      <td>Belgium</td>\n",
              "      <td>Antwerpen</td>\n",
              "      <td>51.247239</td>\n",
              "      <td>4.440346</td>\n",
              "      <td>Yellow</td>\n",
              "      <td>False</td>\n",
              "      <td>19/07/2009</td>\n",
              "      <td>54806.14</td>\n",
              "      <td>0.2467</td>\n",
              "      <td>33858.32</td>\n",
              "      <td>0.13</td>\n",
              "      <td>200.9</td>\n",
              "      <td>11.5</td>\n",
              "    </tr>\n",
              "    <tr>\n",
              "      <th>1</th>\n",
              "      <td>Honda</td>\n",
              "      <td>S2000</td>\n",
              "      <td>Henrik</td>\n",
              "      <td>Male</td>\n",
              "      <td>Male</td>\n",
              "      <td>30</td>\n",
              "      <td>analyzing</td>\n",
              "      <td>China</td>\n",
              "      <td>Jinhu</td>\n",
              "      <td>33.025433</td>\n",
              "      <td>119.020584</td>\n",
              "      <td>Crimson</td>\n",
              "      <td>False</td>\n",
              "      <td>26/10/2015</td>\n",
              "      <td>51826.30</td>\n",
              "      <td>0.3147</td>\n",
              "      <td>2989.28</td>\n",
              "      <td>0.02</td>\n",
              "      <td>158.5</td>\n",
              "      <td>8.8</td>\n",
              "    </tr>\n",
              "    <tr>\n",
              "      <th>2</th>\n",
              "      <td>BMW</td>\n",
              "      <td>Z4</td>\n",
              "      <td>Lebbie</td>\n",
              "      <td>Male</td>\n",
              "      <td>Female</td>\n",
              "      <td>54</td>\n",
              "      <td>software</td>\n",
              "      <td>China</td>\n",
              "      <td>Gemo</td>\n",
              "      <td>30.916207</td>\n",
              "      <td>121.677640</td>\n",
              "      <td>Khaki</td>\n",
              "      <td>False</td>\n",
              "      <td>28/03/2010</td>\n",
              "      <td>82929.14</td>\n",
              "      <td>0.5414</td>\n",
              "      <td>35049.16</td>\n",
              "      <td>0.24</td>\n",
              "      <td>149.5</td>\n",
              "      <td>14.4</td>\n",
              "    </tr>\n",
              "    <tr>\n",
              "      <th>3</th>\n",
              "      <td>Toyota</td>\n",
              "      <td>Tacoma</td>\n",
              "      <td>Jefferey</td>\n",
              "      <td>Female</td>\n",
              "      <td>Male</td>\n",
              "      <td>68</td>\n",
              "      <td>monitoring</td>\n",
              "      <td>Portugal</td>\n",
              "      <td>Queluz de Baixo</td>\n",
              "      <td>38.745168</td>\n",
              "      <td>-9.267087</td>\n",
              "      <td>Puce</td>\n",
              "      <td>False</td>\n",
              "      <td>07/05/2008</td>\n",
              "      <td>56928.66</td>\n",
              "      <td>0.0850</td>\n",
              "      <td>8236.15</td>\n",
              "      <td>0.20</td>\n",
              "      <td>153.3</td>\n",
              "      <td>11.5</td>\n",
              "    </tr>\n",
              "    <tr>\n",
              "      <th>4</th>\n",
              "      <td>Ford</td>\n",
              "      <td>Festiva</td>\n",
              "      <td>Glendon</td>\n",
              "      <td>Female</td>\n",
              "      <td>Male</td>\n",
              "      <td>70</td>\n",
              "      <td>Sharable</td>\n",
              "      <td>Latvia</td>\n",
              "      <td>Jaunpils</td>\n",
              "      <td>56.729980</td>\n",
              "      <td>23.016588</td>\n",
              "      <td>Yellow</td>\n",
              "      <td>False</td>\n",
              "      <td>01/06/2008</td>\n",
              "      <td>77201.26</td>\n",
              "      <td>0.1642</td>\n",
              "      <td>32765.76</td>\n",
              "      <td>0.18</td>\n",
              "      <td>122.0</td>\n",
              "      <td>14.9</td>\n",
              "    </tr>\n",
              "    <tr>\n",
              "      <th>...</th>\n",
              "      <td>...</td>\n",
              "      <td>...</td>\n",
              "      <td>...</td>\n",
              "      <td>...</td>\n",
              "      <td>...</td>\n",
              "      <td>...</td>\n",
              "      <td>...</td>\n",
              "      <td>...</td>\n",
              "      <td>...</td>\n",
              "      <td>...</td>\n",
              "      <td>...</td>\n",
              "      <td>...</td>\n",
              "      <td>...</td>\n",
              "      <td>...</td>\n",
              "      <td>...</td>\n",
              "      <td>...</td>\n",
              "      <td>...</td>\n",
              "      <td>...</td>\n",
              "      <td>...</td>\n",
              "      <td>...</td>\n",
              "    </tr>\n",
              "    <tr>\n",
              "      <th>9995</th>\n",
              "      <td>Mazda</td>\n",
              "      <td>Tribute</td>\n",
              "      <td>Cooper</td>\n",
              "      <td>Male</td>\n",
              "      <td>Male</td>\n",
              "      <td>44</td>\n",
              "      <td>hardware</td>\n",
              "      <td>Pakistan</td>\n",
              "      <td>Chishtiān Mandi</td>\n",
              "      <td>29.919386</td>\n",
              "      <td>73.074787</td>\n",
              "      <td>Pink</td>\n",
              "      <td>False</td>\n",
              "      <td>05/01/2020</td>\n",
              "      <td>58580.65</td>\n",
              "      <td>0.1611</td>\n",
              "      <td>42640.82</td>\n",
              "      <td>0.14</td>\n",
              "      <td>245.8</td>\n",
              "      <td>8.0</td>\n",
              "    </tr>\n",
              "    <tr>\n",
              "      <th>9996</th>\n",
              "      <td>GMC</td>\n",
              "      <td>Sierra 2500</td>\n",
              "      <td>Dud</td>\n",
              "      <td>Male</td>\n",
              "      <td>Male</td>\n",
              "      <td>40</td>\n",
              "      <td>Enhanced</td>\n",
              "      <td>Costa Rica</td>\n",
              "      <td>Ángeles</td>\n",
              "      <td>10.075000</td>\n",
              "      <td>-84.241523</td>\n",
              "      <td>Puce</td>\n",
              "      <td>False</td>\n",
              "      <td>28/12/2005</td>\n",
              "      <td>75229.74</td>\n",
              "      <td>0.2691</td>\n",
              "      <td>21115.58</td>\n",
              "      <td>0.11</td>\n",
              "      <td>147.4</td>\n",
              "      <td>12.3</td>\n",
              "    </tr>\n",
              "    <tr>\n",
              "      <th>9997</th>\n",
              "      <td>Mercury</td>\n",
              "      <td>Mariner</td>\n",
              "      <td>Chariot</td>\n",
              "      <td>Male</td>\n",
              "      <td>Male</td>\n",
              "      <td>37</td>\n",
              "      <td>monitoring</td>\n",
              "      <td>Poland</td>\n",
              "      <td>Dąbrowice</td>\n",
              "      <td>52.311922</td>\n",
              "      <td>19.084965</td>\n",
              "      <td>Blue</td>\n",
              "      <td>False</td>\n",
              "      <td>08/03/2013</td>\n",
              "      <td>34755.44</td>\n",
              "      <td>0.2493</td>\n",
              "      <td>2731.25</td>\n",
              "      <td>0.12</td>\n",
              "      <td>198.1</td>\n",
              "      <td>11.8</td>\n",
              "    </tr>\n",
              "    <tr>\n",
              "      <th>9998</th>\n",
              "      <td>Daewoo</td>\n",
              "      <td>Leganza</td>\n",
              "      <td>Dynah</td>\n",
              "      <td>Female</td>\n",
              "      <td>Female</td>\n",
              "      <td>21</td>\n",
              "      <td>cohesive</td>\n",
              "      <td>Philippines</td>\n",
              "      <td>Villasis</td>\n",
              "      <td>15.901640</td>\n",
              "      <td>120.587828</td>\n",
              "      <td>Teal</td>\n",
              "      <td>True</td>\n",
              "      <td>21/02/2008</td>\n",
              "      <td>98725.42</td>\n",
              "      <td>0.4654</td>\n",
              "      <td>18718.58</td>\n",
              "      <td>0.04</td>\n",
              "      <td>206.7</td>\n",
              "      <td>12.2</td>\n",
              "    </tr>\n",
              "    <tr>\n",
              "      <th>9999</th>\n",
              "      <td>Toyota</td>\n",
              "      <td>Sequoia</td>\n",
              "      <td>Zedekiah</td>\n",
              "      <td>Female</td>\n",
              "      <td>Male</td>\n",
              "      <td>21</td>\n",
              "      <td>analyzing</td>\n",
              "      <td>Philippines</td>\n",
              "      <td>Basud</td>\n",
              "      <td>14.048167</td>\n",
              "      <td>122.955697</td>\n",
              "      <td>Pink</td>\n",
              "      <td>False</td>\n",
              "      <td>16/12/2017</td>\n",
              "      <td>96769.78</td>\n",
              "      <td>0.5446</td>\n",
              "      <td>4545.95</td>\n",
              "      <td>0.07</td>\n",
              "      <td>242.1</td>\n",
              "      <td>3.2</td>\n",
              "    </tr>\n",
              "  </tbody>\n",
              "</table>\n",
              "<p>10000 rows × 20 columns</p>\n",
              "</div>"
            ],
            "text/plain": [
              "         Make        Model    Nickname  ... 5-yr Depreciation Top Speed  0-60 Time\n",
              "0      Suzuki       Vitara  Philippine  ...              0.13     200.9       11.5\n",
              "1       Honda        S2000      Henrik  ...              0.02     158.5        8.8\n",
              "2         BMW           Z4      Lebbie  ...              0.24     149.5       14.4\n",
              "3      Toyota       Tacoma    Jefferey  ...              0.20     153.3       11.5\n",
              "4        Ford      Festiva     Glendon  ...              0.18     122.0       14.9\n",
              "...       ...          ...         ...  ...               ...       ...        ...\n",
              "9995    Mazda      Tribute      Cooper  ...              0.14     245.8        8.0\n",
              "9996      GMC  Sierra 2500         Dud  ...              0.11     147.4       12.3\n",
              "9997  Mercury      Mariner     Chariot  ...              0.12     198.1       11.8\n",
              "9998   Daewoo      Leganza       Dynah  ...              0.04     206.7       12.2\n",
              "9999   Toyota      Sequoia    Zedekiah  ...              0.07     242.1        3.2\n",
              "\n",
              "[10000 rows x 20 columns]"
            ]
          },
          "metadata": {},
          "execution_count": 11
        }
      ]
    },
    {
      "cell_type": "markdown",
      "metadata": {
        "id": "WfMv5sZnU-6t"
      },
      "source": [
        "# ***CHECKING FOR NULL VALUE IN DATASET***"
      ]
    },
    {
      "cell_type": "code",
      "metadata": {
        "colab": {
          "base_uri": "https://localhost:8080/"
        },
        "id": "5mO-JXySVr7m",
        "outputId": "bdf9d24a-9829-437c-f510-8739d5a04238"
      },
      "source": [
        "data.info()"
      ],
      "execution_count": null,
      "outputs": [
        {
          "output_type": "stream",
          "name": "stdout",
          "text": [
            "<class 'pandas.core.frame.DataFrame'>\n",
            "RangeIndex: 10000 entries, 0 to 9999\n",
            "Data columns (total 20 columns):\n",
            " #   Column             Non-Null Count  Dtype  \n",
            "---  ------             --------------  -----  \n",
            " 0   Make               10000 non-null  object \n",
            " 1   Model              10000 non-null  object \n",
            " 2   Nickname           10000 non-null  object \n",
            " 3   Car Gender         10000 non-null  object \n",
            " 4   Buyer Gender       10000 non-null  object \n",
            " 5   Buyer Age          10000 non-null  int64  \n",
            " 6   Buzzword           10000 non-null  object \n",
            " 7   Country            10000 non-null  object \n",
            " 8   City               10000 non-null  object \n",
            " 9   Dealer Latitude    10000 non-null  float64\n",
            " 10  Dealer Longitude   10000 non-null  float64\n",
            " 11  Color              10000 non-null  object \n",
            " 12  New Car            10000 non-null  bool   \n",
            " 13  Purchase Date      10000 non-null  object \n",
            " 14  Sale Price         10000 non-null  float64\n",
            " 15  Discount           10000 non-null  float64\n",
            " 16  Resell Price       10000 non-null  float64\n",
            " 17  5-yr Depreciation  10000 non-null  float64\n",
            " 18  Top Speed          10000 non-null  float64\n",
            " 19  0-60 Time          10000 non-null  float64\n",
            "dtypes: bool(1), float64(8), int64(1), object(10)\n",
            "memory usage: 1.5+ MB\n"
          ]
        }
      ]
    },
    {
      "cell_type": "markdown",
      "metadata": {
        "id": "RETCGUKuWyrp"
      },
      "source": [
        "since the non-null values are all non zero and equal under each category we can conclude that there are no null entries in the given data"
      ]
    },
    {
      "cell_type": "markdown",
      "metadata": {
        "id": "1yMAXgk4Z4LY"
      },
      "source": [
        "# ***TO PLOT GRAPH BETWEEN FEMALE AND MALE BUYERS***"
      ]
    },
    {
      "cell_type": "code",
      "metadata": {
        "id": "BohmHP-KVGsL",
        "colab": {
          "base_uri": "https://localhost:8080/",
          "height": 424
        },
        "outputId": "685467a5-3ac9-4268-c0fb-181d91bd2783"
      },
      "source": [
        "new_data=data.loc[:,['Make','Buyer Gender']]\n",
        "new_data"
      ],
      "execution_count": 8,
      "outputs": [
        {
          "output_type": "execute_result",
          "data": {
            "text/html": [
              "<div>\n",
              "<style scoped>\n",
              "    .dataframe tbody tr th:only-of-type {\n",
              "        vertical-align: middle;\n",
              "    }\n",
              "\n",
              "    .dataframe tbody tr th {\n",
              "        vertical-align: top;\n",
              "    }\n",
              "\n",
              "    .dataframe thead th {\n",
              "        text-align: right;\n",
              "    }\n",
              "</style>\n",
              "<table border=\"1\" class=\"dataframe\">\n",
              "  <thead>\n",
              "    <tr style=\"text-align: right;\">\n",
              "      <th></th>\n",
              "      <th>Make</th>\n",
              "      <th>Buyer Gender</th>\n",
              "    </tr>\n",
              "  </thead>\n",
              "  <tbody>\n",
              "    <tr>\n",
              "      <th>0</th>\n",
              "      <td>Suzuki</td>\n",
              "      <td>Female</td>\n",
              "    </tr>\n",
              "    <tr>\n",
              "      <th>1</th>\n",
              "      <td>Honda</td>\n",
              "      <td>Male</td>\n",
              "    </tr>\n",
              "    <tr>\n",
              "      <th>2</th>\n",
              "      <td>BMW</td>\n",
              "      <td>Female</td>\n",
              "    </tr>\n",
              "    <tr>\n",
              "      <th>3</th>\n",
              "      <td>Toyota</td>\n",
              "      <td>Male</td>\n",
              "    </tr>\n",
              "    <tr>\n",
              "      <th>4</th>\n",
              "      <td>Ford</td>\n",
              "      <td>Male</td>\n",
              "    </tr>\n",
              "    <tr>\n",
              "      <th>...</th>\n",
              "      <td>...</td>\n",
              "      <td>...</td>\n",
              "    </tr>\n",
              "    <tr>\n",
              "      <th>9995</th>\n",
              "      <td>Mazda</td>\n",
              "      <td>Male</td>\n",
              "    </tr>\n",
              "    <tr>\n",
              "      <th>9996</th>\n",
              "      <td>GMC</td>\n",
              "      <td>Male</td>\n",
              "    </tr>\n",
              "    <tr>\n",
              "      <th>9997</th>\n",
              "      <td>Mercury</td>\n",
              "      <td>Male</td>\n",
              "    </tr>\n",
              "    <tr>\n",
              "      <th>9998</th>\n",
              "      <td>Daewoo</td>\n",
              "      <td>Female</td>\n",
              "    </tr>\n",
              "    <tr>\n",
              "      <th>9999</th>\n",
              "      <td>Toyota</td>\n",
              "      <td>Male</td>\n",
              "    </tr>\n",
              "  </tbody>\n",
              "</table>\n",
              "<p>10000 rows × 2 columns</p>\n",
              "</div>"
            ],
            "text/plain": [
              "         Make Buyer Gender\n",
              "0      Suzuki       Female\n",
              "1       Honda         Male\n",
              "2         BMW       Female\n",
              "3      Toyota         Male\n",
              "4        Ford         Male\n",
              "...       ...          ...\n",
              "9995    Mazda         Male\n",
              "9996      GMC         Male\n",
              "9997  Mercury         Male\n",
              "9998   Daewoo       Female\n",
              "9999   Toyota         Male\n",
              "\n",
              "[10000 rows x 2 columns]"
            ]
          },
          "metadata": {},
          "execution_count": 8
        }
      ]
    },
    {
      "cell_type": "code",
      "metadata": {
        "id": "h9J10c3LgSB8"
      },
      "source": [
        "female=new_data['Buyer Gender']=='Female'\n",
        "male=new_data['Buyer Gender']=='Male'\n"
      ],
      "execution_count": null,
      "outputs": []
    },
    {
      "cell_type": "markdown",
      "metadata": {
        "id": "EF-jsrBhal18"
      },
      "source": [
        "# ***TO FIND TOP CARS BASED ON SELL PRICE***"
      ]
    },
    {
      "cell_type": "code",
      "metadata": {
        "colab": {
          "base_uri": "https://localhost:8080/"
        },
        "id": "ttEJ4JSl5eVW",
        "outputId": "03fd5350-233b-4934-e647-b5e3caf40307"
      },
      "source": [
        "data['Sale Price'].value_counts()"
      ],
      "execution_count": 20,
      "outputs": [
        {
          "output_type": "execute_result",
          "data": {
            "text/plain": [
              "97574.74    2\n",
              "64443.76    2\n",
              "23810.58    2\n",
              "68511.89    2\n",
              "80084.82    2\n",
              "           ..\n",
              "98355.95    1\n",
              "24866.23    1\n",
              "36549.25    1\n",
              "99764.34    1\n",
              "58859.56    1\n",
              "Name: Sale Price, Length: 9994, dtype: int64"
            ]
          },
          "metadata": {},
          "execution_count": 20
        }
      ]
    },
    {
      "cell_type": "markdown",
      "metadata": {
        "id": "TUzPfrjB-VdJ"
      },
      "source": [
        "the highest sell price is 99764.34"
      ]
    },
    {
      "cell_type": "markdown",
      "metadata": {
        "id": "2dECpPRBan7X"
      },
      "source": [
        "# ***TO FIND LEAST SOLD CAR BASED ON RESELL PRICE***"
      ]
    },
    {
      "cell_type": "code",
      "metadata": {
        "id": "MJiebnAuaoZJ",
        "colab": {
          "base_uri": "https://localhost:8080/"
        },
        "outputId": "cad95100-d23f-4510-d1d4-1d34b3b74a61"
      },
      "source": [
        "data['Resell Price'].value_counts()"
      ],
      "execution_count": 21,
      "outputs": [
        {
          "output_type": "execute_result",
          "data": {
            "text/plain": [
              "10159.85    2\n",
              "10046.76    2\n",
              "26912.51    2\n",
              "8824.84     2\n",
              "8914.40     2\n",
              "           ..\n",
              "41144.69    1\n",
              "36882.43    1\n",
              "11443.77    1\n",
              "37203.04    1\n",
              "9429.78     1\n",
              "Name: Resell Price, Length: 9988, dtype: int64"
            ]
          },
          "metadata": {},
          "execution_count": 21
        }
      ]
    },
    {
      "cell_type": "markdown",
      "metadata": {
        "id": "cml8OXIJ-rFz"
      },
      "source": [
        "the lowest resell price is 10159.85"
      ]
    }
  ]
}