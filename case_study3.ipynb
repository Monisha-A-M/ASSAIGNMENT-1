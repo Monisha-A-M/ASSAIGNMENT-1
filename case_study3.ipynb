{
  "nbformat": 4,
  "nbformat_minor": 0,
  "metadata": {
    "colab": {
      "name": "case_study3.ipynb",
      "provenance": [],
      "collapsed_sections": [],
      "toc_visible": true,
      "authorship_tag": "ABX9TyOJ2zXzm79rkEYkVHJK9Zkf",
      "include_colab_link": true
    },
    "kernelspec": {
      "name": "python3",
      "display_name": "Python 3"
    },
    "language_info": {
      "name": "python"
    }
  },
  "cells": [
    {
      "cell_type": "markdown",
      "metadata": {
        "id": "view-in-github",
        "colab_type": "text"
      },
      "source": [
        "<a href=\"https://colab.research.google.com/github/Monisha-A-M/ASSAIGNMENT-1/blob/main/case_study3.ipynb\" target=\"_parent\"><img src=\"https://colab.research.google.com/assets/colab-badge.svg\" alt=\"Open In Colab\"/></a>"
      ]
    },
    {
      "cell_type": "code",
      "execution_count": null,
      "metadata": {
        "id": "3nwyzlt0-Ib1"
      },
      "outputs": [],
      "source": [
        "import pandas as pd\n",
        "import numpy as np\n",
        "import matplotlib.pyplot as plt\n",
        "import seaborn as sns\n",
        "\n",
        "data=pd.read_csv('Add_sales_data_2018.csv')"
      ]
    },
    {
      "cell_type": "code",
      "source": [
        "data.head()"
      ],
      "metadata": {
        "colab": {
          "base_uri": "https://localhost:8080/",
          "height": 310
        },
        "id": "6B1KHichBovv",
        "outputId": "f39d4b69-a5bb-4587-f4e8-d962e365bd7e"
      },
      "execution_count": null,
      "outputs": [
        {
          "output_type": "execute_result",
          "data": {
            "text/html": [
              "<div>\n",
              "<style scoped>\n",
              "    .dataframe tbody tr th:only-of-type {\n",
              "        vertical-align: middle;\n",
              "    }\n",
              "\n",
              "    .dataframe tbody tr th {\n",
              "        vertical-align: top;\n",
              "    }\n",
              "\n",
              "    .dataframe thead th {\n",
              "        text-align: right;\n",
              "    }\n",
              "</style>\n",
              "<table border=\"1\" class=\"dataframe\">\n",
              "  <thead>\n",
              "    <tr style=\"text-align: right;\">\n",
              "      <th></th>\n",
              "      <th>Date</th>\n",
              "      <th>Add1(in Thousands)</th>\n",
              "      <th>Add2(in Thousands)</th>\n",
              "      <th>Add3(in Thousands)</th>\n",
              "      <th>Add4(in Thousands)</th>\n",
              "      <th>Add5(in Thousands)</th>\n",
              "      <th>Profit(in Thousands)</th>\n",
              "    </tr>\n",
              "  </thead>\n",
              "  <tbody>\n",
              "    <tr>\n",
              "      <th>0</th>\n",
              "      <td>08-10-2018</td>\n",
              "      <td>208.00</td>\n",
              "      <td>222.25</td>\n",
              "      <td>206.85</td>\n",
              "      <td>216.00</td>\n",
              "      <td>215.15</td>\n",
              "      <td>4093.065</td>\n",
              "    </tr>\n",
              "    <tr>\n",
              "      <th>1</th>\n",
              "      <td>05-10-2018</td>\n",
              "      <td>217.00</td>\n",
              "      <td>218.60</td>\n",
              "      <td>205.90</td>\n",
              "      <td>210.25</td>\n",
              "      <td>209.20</td>\n",
              "      <td>4042.448</td>\n",
              "    </tr>\n",
              "    <tr>\n",
              "      <th>2</th>\n",
              "      <td>04-10-2018</td>\n",
              "      <td>223.50</td>\n",
              "      <td>227.80</td>\n",
              "      <td>216.15</td>\n",
              "      <td>217.25</td>\n",
              "      <td>218.20</td>\n",
              "      <td>4213.819</td>\n",
              "    </tr>\n",
              "    <tr>\n",
              "      <th>3</th>\n",
              "      <td>03-10-2018</td>\n",
              "      <td>230.00</td>\n",
              "      <td>237.50</td>\n",
              "      <td>225.75</td>\n",
              "      <td>226.45</td>\n",
              "      <td>227.60</td>\n",
              "      <td>4391.665</td>\n",
              "    </tr>\n",
              "    <tr>\n",
              "      <th>4</th>\n",
              "      <td>01-10-2018</td>\n",
              "      <td>234.55</td>\n",
              "      <td>234.60</td>\n",
              "      <td>221.05</td>\n",
              "      <td>230.30</td>\n",
              "      <td>230.90</td>\n",
              "      <td>4350.683</td>\n",
              "    </tr>\n",
              "  </tbody>\n",
              "</table>\n",
              "</div>"
            ],
            "text/plain": [
              "         Date  Add1(in Thousands)  ...  Add5(in Thousands)  Profit(in Thousands)\n",
              "0  08-10-2018              208.00  ...              215.15              4093.065\n",
              "1  05-10-2018              217.00  ...              209.20              4042.448\n",
              "2  04-10-2018              223.50  ...              218.20              4213.819\n",
              "3  03-10-2018              230.00  ...              227.60              4391.665\n",
              "4  01-10-2018              234.55  ...              230.90              4350.683\n",
              "\n",
              "[5 rows x 7 columns]"
            ]
          },
          "metadata": {},
          "execution_count": 2
        }
      ]
    },
    {
      "cell_type": "code",
      "source": [
        "data.info()"
      ],
      "metadata": {
        "colab": {
          "base_uri": "https://localhost:8080/"
        },
        "id": "dR1ZwowfATdM",
        "outputId": "5e8780cd-dd73-4549-ea09-37b0a20d4d06"
      },
      "execution_count": null,
      "outputs": [
        {
          "output_type": "stream",
          "name": "stdout",
          "text": [
            "<class 'pandas.core.frame.DataFrame'>\n",
            "RangeIndex: 205 entries, 0 to 204\n",
            "Data columns (total 7 columns):\n",
            " #   Column                Non-Null Count  Dtype  \n",
            "---  ------                --------------  -----  \n",
            " 0   Date                  205 non-null    object \n",
            " 1   Add1(in Thousands)    205 non-null    float64\n",
            " 2   Add2(in Thousands)    205 non-null    float64\n",
            " 3   Add3(in Thousands)    205 non-null    float64\n",
            " 4   Add4(in Thousands)    205 non-null    float64\n",
            " 5   Add5(in Thousands)    205 non-null    float64\n",
            " 6   Profit(in Thousands)  205 non-null    float64\n",
            "dtypes: float64(6), object(1)\n",
            "memory usage: 11.3+ KB\n"
          ]
        }
      ]
    },
    {
      "cell_type": "code",
      "source": [
        "data.describe()"
      ],
      "metadata": {
        "colab": {
          "base_uri": "https://localhost:8080/",
          "height": 317
        },
        "id": "_rTFBG74AfBa",
        "outputId": "5e10ab6b-4e6a-4022-99bf-bb15755c734e"
      },
      "execution_count": null,
      "outputs": [
        {
          "output_type": "execute_result",
          "data": {
            "text/html": [
              "<div>\n",
              "<style scoped>\n",
              "    .dataframe tbody tr th:only-of-type {\n",
              "        vertical-align: middle;\n",
              "    }\n",
              "\n",
              "    .dataframe tbody tr th {\n",
              "        vertical-align: top;\n",
              "    }\n",
              "\n",
              "    .dataframe thead th {\n",
              "        text-align: right;\n",
              "    }\n",
              "</style>\n",
              "<table border=\"1\" class=\"dataframe\">\n",
              "  <thead>\n",
              "    <tr style=\"text-align: right;\">\n",
              "      <th></th>\n",
              "      <th>Add1(in Thousands)</th>\n",
              "      <th>Add2(in Thousands)</th>\n",
              "      <th>Add3(in Thousands)</th>\n",
              "      <th>Add4(in Thousands)</th>\n",
              "      <th>Add5(in Thousands)</th>\n",
              "      <th>Profit(in Thousands)</th>\n",
              "    </tr>\n",
              "  </thead>\n",
              "  <tbody>\n",
              "    <tr>\n",
              "      <th>count</th>\n",
              "      <td>205.000000</td>\n",
              "      <td>205.000000</td>\n",
              "      <td>205.000000</td>\n",
              "      <td>205.000000</td>\n",
              "      <td>205.000000</td>\n",
              "      <td>205.000000</td>\n",
              "    </tr>\n",
              "    <tr>\n",
              "      <th>mean</th>\n",
              "      <td>267.577561</td>\n",
              "      <td>271.722439</td>\n",
              "      <td>262.990732</td>\n",
              "      <td>267.223902</td>\n",
              "      <td>267.152683</td>\n",
              "      <td>5059.630234</td>\n",
              "    </tr>\n",
              "    <tr>\n",
              "      <th>std</th>\n",
              "      <td>26.219588</td>\n",
              "      <td>25.914939</td>\n",
              "      <td>26.126704</td>\n",
              "      <td>26.238832</td>\n",
              "      <td>26.215360</td>\n",
              "      <td>486.910414</td>\n",
              "    </tr>\n",
              "    <tr>\n",
              "      <th>min</th>\n",
              "      <td>208.000000</td>\n",
              "      <td>218.600000</td>\n",
              "      <td>205.900000</td>\n",
              "      <td>210.250000</td>\n",
              "      <td>209.200000</td>\n",
              "      <td>4042.448000</td>\n",
              "    </tr>\n",
              "    <tr>\n",
              "      <th>25%</th>\n",
              "      <td>244.000000</td>\n",
              "      <td>248.500000</td>\n",
              "      <td>240.300000</td>\n",
              "      <td>243.050000</td>\n",
              "      <td>243.000000</td>\n",
              "      <td>4617.695000</td>\n",
              "    </tr>\n",
              "    <tr>\n",
              "      <th>50%</th>\n",
              "      <td>269.700000</td>\n",
              "      <td>274.200000</td>\n",
              "      <td>263.250000</td>\n",
              "      <td>268.900000</td>\n",
              "      <td>268.350000</td>\n",
              "      <td>5088.455000</td>\n",
              "    </tr>\n",
              "    <tr>\n",
              "      <th>75%</th>\n",
              "      <td>284.400000</td>\n",
              "      <td>288.800000</td>\n",
              "      <td>280.900000</td>\n",
              "      <td>284.500000</td>\n",
              "      <td>284.450000</td>\n",
              "      <td>5387.438000</td>\n",
              "    </tr>\n",
              "    <tr>\n",
              "      <th>max</th>\n",
              "      <td>327.700000</td>\n",
              "      <td>328.750000</td>\n",
              "      <td>321.650000</td>\n",
              "      <td>325.950000</td>\n",
              "      <td>325.750000</td>\n",
              "      <td>6137.800000</td>\n",
              "    </tr>\n",
              "  </tbody>\n",
              "</table>\n",
              "</div>"
            ],
            "text/plain": [
              "       Add1(in Thousands)  ...  Profit(in Thousands)\n",
              "count          205.000000  ...            205.000000\n",
              "mean           267.577561  ...           5059.630234\n",
              "std             26.219588  ...            486.910414\n",
              "min            208.000000  ...           4042.448000\n",
              "25%            244.000000  ...           4617.695000\n",
              "50%            269.700000  ...           5088.455000\n",
              "75%            284.400000  ...           5387.438000\n",
              "max            327.700000  ...           6137.800000\n",
              "\n",
              "[8 rows x 6 columns]"
            ]
          },
          "metadata": {},
          "execution_count": 4
        }
      ]
    },
    {
      "cell_type": "markdown",
      "source": [
        "*CHECKING FOR CORRELATION AMOUNT SPENT AND ADVERTISEMENT THROUGH FIVE COMPANIES*"
      ],
      "metadata": {
        "id": "pq8AecHO_3mF"
      }
    },
    {
      "cell_type": "code",
      "source": [
        "freqgraph=data.select_dtypes(include=['int32','int64','float'])\n",
        "freqgraph.hist(figsize=(20,15))\n",
        "plt.show()"
      ],
      "metadata": {
        "id": "iOJnZIxY_QuN",
        "colab": {
          "base_uri": "https://localhost:8080/",
          "height": 899
        },
        "outputId": "e17c05a3-4d60-4121-ad52-18c6871a43fa"
      },
      "execution_count": null,
      "outputs": [
        {
          "output_type": "display_data",
          "data": {
            "image/png": "[encoded data removed]",
            "text/plain": [
              "<Figure size 1440x1080 with 6 Axes>"
            ]
          },
          "metadata": {
            "needs_background": "light"
          }
        }
      ]
    },
    {
      "cell_type": "markdown",
      "source": [
        "**BUILDING A REGRESSION MODEL TO PREDICT PROFIT**"
      ],
      "metadata": {
        "id": "PAnbTM74hFa0"
      }
    },
    {
      "cell_type": "code",
      "source": [
        "data1=data.drop('Date',axis=1)"
      ],
      "metadata": {
        "id": "nje4rlpwml0H"
      },
      "execution_count": null,
      "outputs": []
    },
    {
      "cell_type": "code",
      "source": [
        "y=data1['Profit(in Thousands)']\n",
        "x=data1.drop(['Profit(in Thousands)'],axis=1)"
      ],
      "metadata": {
        "id": "z_Cwqqy_hGVy"
      },
      "execution_count": null,
      "outputs": []
    },
    {
      "cell_type": "code",
      "source": [
        "from sklearn.model_selection import  train_test_split\n",
        "x_train,x_test,y_train,y_test=train_test_split(x,y,random_state=42,test_size=.25)"
      ],
      "metadata": {
        "id": "fwYiVJn0GaNn"
      },
      "execution_count": null,
      "outputs": []
    },
    {
      "cell_type": "code",
      "source": [
        "from sklearn import linear_model\n",
        "lr=linear_model.LinearRegression()\n",
        "model1=lr.fit(x_train,y_train)\n",
        "pred=model1.predict(x_test)\n",
        "print(y_test)\n"
      ],
      "metadata": {
        "colab": {
          "base_uri": "https://localhost:8080/"
        },
        "id": "PqE6zQCgjBam",
        "outputId": "857c394b-63ac-4606-cd42-be22b363757b"
      },
      "execution_count": null,
      "outputs": [
        {
          "output_type": "stream",
          "name": "stdout",
          "text": [
            "15     4152.066\n",
            "9      4446.441\n",
            "100    5131.898\n",
            "132    4907.560\n",
            "68     5004.282\n",
            "95     4623.793\n",
            "159    5384.175\n",
            "162    5328.025\n",
            "147    5175.051\n",
            "182    5956.323\n",
            "191    5780.799\n",
            "164    4997.719\n",
            "65     5075.858\n",
            "175    5784.540\n",
            "73     4936.120\n",
            "152    5065.652\n",
            "18     4190.965\n",
            "82     5034.726\n",
            "86     5015.536\n",
            "143    5134.657\n",
            "60     5145.131\n",
            "101    5421.940\n",
            "98     4569.293\n",
            "30     4598.292\n",
            "25     4436.321\n",
            "16     4175.677\n",
            "168    5616.791\n",
            "195    5667.250\n",
            "97     4648.834\n",
            "194    5717.838\n",
            "67     5001.615\n",
            "120    5182.368\n",
            "154    5017.503\n",
            "202    5545.013\n",
            "79     5013.207\n",
            "69     5030.451\n",
            "145    5108.626\n",
            "55     4760.877\n",
            "45     4606.340\n",
            "84     4925.861\n",
            "146    5250.788\n",
            "66     5038.222\n",
            "111    5491.792\n",
            "153    5019.997\n",
            "96     4647.356\n",
            "38     4486.380\n",
            "24     4435.174\n",
            "139    5300.437\n",
            "112    5425.190\n",
            "29     4482.183\n",
            "19     4193.095\n",
            "178    6062.457\n",
            "Name: Profit(in Thousands), dtype: float64\n"
          ]
        }
      ]
    },
    {
      "cell_type": "code",
      "source": [
        "print(pred)"
      ],
      "metadata": {
        "colab": {
          "base_uri": "https://localhost:8080/"
        },
        "id": "NB8mls6PnhSP",
        "outputId": "c034325f-b523-47fd-963c-cdfe18c65b6b"
      },
      "execution_count": null,
      "outputs": [
        {
          "output_type": "stream",
          "name": "stdout",
          "text": [
            "[4152.066 4446.441 5131.898 4907.56  5004.282 4623.793 5384.175 5328.025\n",
            " 5175.051 5956.323 5780.799 4997.719 5075.858 5784.54  4936.12  5065.652\n",
            " 4190.965 5034.726 5015.536 5134.657 5145.131 5421.94  4569.293 4598.292\n",
            " 4436.321 4175.677 5616.791 5667.25  4648.834 5717.838 5001.615 5182.368\n",
            " 5017.503 5545.013 5013.207 5030.451 5108.626 4760.877 4606.34  4925.861\n",
            " 5250.788 5038.222 5491.792 5019.997 4647.356 4486.38  4435.174 5300.437\n",
            " 5425.19  4482.183 4193.095 6062.457]\n"
          ]
        }
      ]
    },
    {
      "cell_type": "code",
      "source": [
        "from sklearn.metrics import mean_squared_error\n",
        "print('MSE is',mean_squared_error(y_test,pred))"
      ],
      "metadata": {
        "colab": {
          "base_uri": "https://localhost:8080/"
        },
        "id": "_O7WtOz2nq_l",
        "outputId": "5ed6cb3e-6f38-48a7-c6cf-5fa20ab5fe71"
      },
      "execution_count": null,
      "outputs": [
        {
          "output_type": "stream",
          "name": "stdout",
          "text": [
            "MSE is 4.931269036373819e-25\n"
          ]
        }
      ]
    }
  ]
}