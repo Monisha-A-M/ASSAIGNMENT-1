{
  "nbformat": 4,
  "nbformat_minor": 0,
  "metadata": {
    "colab": {
      "name": "case_study9.ipynb",
      "provenance": [],
      "authorship_tag": "ABX9TyOl1mV+cUM3rqKktS9TM/jO",
      "include_colab_link": true
    },
    "kernelspec": {
      "name": "python3",
      "display_name": "Python 3"
    },
    "language_info": {
      "name": "python"
    }
  },
  "cells": [
    {
      "cell_type": "markdown",
      "metadata": {
        "id": "view-in-github",
        "colab_type": "text"
      },
      "source": [
        "<a href=\"https://colab.research.google.com/github/Monisha-A-M/ASSAIGNMENT-1/blob/main/case_study9.ipynb\" target=\"_parent\"><img src=\"https://colab.research.google.com/assets/colab-badge.svg\" alt=\"Open In Colab\"/></a>"
      ]
    },
    {
      "cell_type": "code",
      "source": [
        "pip install xlrd==2.0.1"
      ],
      "metadata": {
        "colab": {
          "base_uri": "https://localhost:8080/"
        },
        "id": "H9AhfgYPylP3",
        "outputId": "6d6830d4-410d-4227-85f3-582435d1ab49"
      },
      "execution_count": 1,
      "outputs": [
        {
          "output_type": "stream",
          "name": "stdout",
          "text": [
            "Collecting xlrd==2.0.1\n",
            "  Downloading xlrd-2.0.1-py2.py3-none-any.whl (96 kB)\n",
            "\u001b[?25l\r\u001b[K     |███▍                            | 10 kB 19.9 MB/s eta 0:00:01\r\u001b[K     |██████▉                         | 20 kB 13.5 MB/s eta 0:00:01\r\u001b[K     |██████████▏                     | 30 kB 5.3 MB/s eta 0:00:01\r\u001b[K     |█████████████▋                  | 40 kB 6.6 MB/s eta 0:00:01\r\u001b[K     |█████████████████               | 51 kB 4.3 MB/s eta 0:00:01\r\u001b[K     |████████████████████▍           | 61 kB 4.9 MB/s eta 0:00:01\r\u001b[K     |███████████████████████▊        | 71 kB 5.6 MB/s eta 0:00:01\r\u001b[K     |███████████████████████████▏    | 81 kB 4.2 MB/s eta 0:00:01\r\u001b[K     |██████████████████████████████▌ | 92 kB 4.6 MB/s eta 0:00:01\r\u001b[K     |████████████████████████████████| 96 kB 2.6 MB/s \n",
            "\u001b[?25hInstalling collected packages: xlrd\n",
            "  Attempting uninstall: xlrd\n",
            "    Found existing installation: xlrd 1.1.0\n",
            "    Uninstalling xlrd-1.1.0:\n",
            "      Successfully uninstalled xlrd-1.1.0\n",
            "Successfully installed xlrd-2.0.1\n"
          ]
        }
      ]
    },
    {
      "cell_type": "code",
      "source": [
        "pip install pandas==1.2.0"
      ],
      "metadata": {
        "id": "RWtvSNVebNr3",
        "colab": {
          "base_uri": "https://localhost:8080/"
        },
        "outputId": "70cbc761-e6e5-4475-b6c7-cb0e171680c0"
      },
      "execution_count": 2,
      "outputs": [
        {
          "output_type": "stream",
          "name": "stdout",
          "text": [
            "Requirement already satisfied: pandas==1.2.0 in /usr/local/lib/python3.7/dist-packages (1.2.0)\n",
            "Requirement already satisfied: pytz>=2017.3 in /usr/local/lib/python3.7/dist-packages (from pandas==1.2.0) (2018.9)\n",
            "Requirement already satisfied: python-dateutil>=2.7.3 in /usr/local/lib/python3.7/dist-packages (from pandas==1.2.0) (2.8.2)\n",
            "Requirement already satisfied: numpy>=1.16.5 in /usr/local/lib/python3.7/dist-packages (from pandas==1.2.0) (1.21.5)\n",
            "Requirement already satisfied: six>=1.5 in /usr/local/lib/python3.7/dist-packages (from python-dateutil>=2.7.3->pandas==1.2.0) (1.15.0)\n"
          ]
        }
      ]
    },
    {
      "cell_type": "code",
      "source": [
        "import pandas as pd\n",
        "import numpy as np\n",
        "import matplotlib.pyplot as plt\n",
        "import seaborn as sns"
      ],
      "metadata": {
        "id": "2aJNI8XzT02M"
      },
      "execution_count": 3,
      "outputs": []
    },
    {
      "cell_type": "code",
      "source": [
        "df=pd.read_csv('Wine.csv')"
      ],
      "metadata": {
        "id": "z_sYGuzPUHVI"
      },
      "execution_count": 21,
      "outputs": []
    },
    {
      "cell_type": "code",
      "source": [
        "X=df.iloc[:,[3,4]].values\n",
        "X\n"
      ],
      "metadata": {
        "colab": {
          "base_uri": "https://localhost:8080/"
        },
        "outputId": "b22f2360-2be4-45fa-b3b4-6dca6dd49a7e",
        "id": "e59IZxnQZTD-"
      },
      "execution_count": 22,
      "outputs": [
        {
          "output_type": "execute_result",
          "data": {
            "text/plain": [
              "array([[ 15.6, 127. ],\n",
              "       [ 11.2, 100. ],\n",
              "       [ 18.6, 101. ],\n",
              "       [ 16.8, 113. ],\n",
              "       [ 21. , 118. ],\n",
              "       [ 15.2, 112. ],\n",
              "       [ 14.6,  96. ],\n",
              "       [ 17.6, 121. ],\n",
              "       [ 14. ,  97. ],\n",
              "       [ 16. ,  98. ],\n",
              "       [ 18. , 105. ],\n",
              "       [ 16.8,  95. ],\n",
              "       [ 16. ,  89. ],\n",
              "       [ 11.4,  91. ],\n",
              "       [ 12. , 102. ],\n",
              "       [ 17.2, 112. ],\n",
              "       [ 20. , 120. ],\n",
              "       [ 20. , 115. ],\n",
              "       [ 16.5, 108. ],\n",
              "       [ 15.2, 116. ],\n",
              "       [ 16. , 126. ],\n",
              "       [ 18.6, 102. ],\n",
              "       [ 16.6, 101. ],\n",
              "       [ 17.8,  95. ],\n",
              "       [ 20. ,  96. ],\n",
              "       [ 25. , 124. ],\n",
              "       [ 16.1,  93. ],\n",
              "       [ 17. ,  94. ],\n",
              "       [ 19.4, 107. ],\n",
              "       [ 16. ,  96. ],\n",
              "       [ 22.5, 101. ],\n",
              "       [ 19.1, 106. ],\n",
              "       [ 17.2, 104. ],\n",
              "       [ 19.5, 132. ],\n",
              "       [ 19. , 110. ],\n",
              "       [ 20.5, 100. ],\n",
              "       [ 15.5, 110. ],\n",
              "       [ 18. ,  98. ],\n",
              "       [ 15.5,  98. ],\n",
              "       [ 13.2, 128. ],\n",
              "       [ 16.2, 117. ],\n",
              "       [ 18.8,  90. ],\n",
              "       [ 15. , 101. ],\n",
              "       [ 17.5, 103. ],\n",
              "       [ 17. , 107. ],\n",
              "       [ 18.9, 111. ],\n",
              "       [ 16. , 102. ],\n",
              "       [ 16. , 101. ],\n",
              "       [ 18.8, 103. ],\n",
              "       [ 17.4, 108. ],\n",
              "       [ 12.4,  92. ],\n",
              "       [ 17.2,  94. ],\n",
              "       [ 14. , 111. ],\n",
              "       [ 17.1, 115. ],\n",
              "       [ 16.4, 118. ],\n",
              "       [ 20.5, 116. ],\n",
              "       [ 16.3, 118. ],\n",
              "       [ 16.8, 102. ],\n",
              "       [ 16.7, 108. ],\n",
              "       [ 10.6,  88. ],\n",
              "       [ 16. , 101. ],\n",
              "       [ 16.8, 100. ],\n",
              "       [ 18. ,  94. ],\n",
              "       [ 19. ,  87. ],\n",
              "       [ 19. , 104. ],\n",
              "       [ 18.1,  98. ],\n",
              "       [ 15. ,  78. ],\n",
              "       [ 19.6,  78. ],\n",
              "       [ 17. , 110. ],\n",
              "       [ 16.8, 151. ],\n",
              "       [ 20.4, 103. ],\n",
              "       [ 25. ,  86. ],\n",
              "       [ 24. ,  87. ],\n",
              "       [ 30. , 139. ],\n",
              "       [ 21. , 101. ],\n",
              "       [ 16. ,  97. ],\n",
              "       [ 16. ,  86. ],\n",
              "       [ 18. , 112. ],\n",
              "       [ 14.8, 136. ],\n",
              "       [ 23. , 101. ],\n",
              "       [ 19. ,  86. ],\n",
              "       [ 18.8,  86. ],\n",
              "       [ 24. ,  78. ],\n",
              "       [ 22.5,  85. ],\n",
              "       [ 18. ,  94. ],\n",
              "       [ 18. ,  99. ],\n",
              "       [ 22.8,  90. ],\n",
              "       [ 26. ,  88. ],\n",
              "       [ 21.6,  84. ],\n",
              "       [ 23.6,  70. ],\n",
              "       [ 18.5,  81. ],\n",
              "       [ 22. ,  86. ],\n",
              "       [ 20.7,  80. ],\n",
              "       [ 18. ,  88. ],\n",
              "       [ 18. ,  98. ],\n",
              "       [ 19. , 162. ],\n",
              "       [ 21.5, 134. ],\n",
              "       [ 16. ,  85. ],\n",
              "       [ 18.5,  88. ],\n",
              "       [ 18. ,  88. ],\n",
              "       [ 17.5,  97. ],\n",
              "       [ 18.5,  88. ],\n",
              "       [ 21. ,  98. ],\n",
              "       [ 19.5,  86. ],\n",
              "       [ 20.5,  85. ],\n",
              "       [ 22. ,  90. ],\n",
              "       [ 19. ,  80. ],\n",
              "       [ 22.5,  84. ],\n",
              "       [ 19. ,  92. ],\n",
              "       [ 20. ,  94. ],\n",
              "       [ 19.5, 107. ],\n",
              "       [ 21. ,  88. ],\n",
              "       [ 20. , 103. ],\n",
              "       [ 21. ,  88. ],\n",
              "       [ 22.5,  84. ],\n",
              "       [ 21.5,  85. ],\n",
              "       [ 20.8,  86. ],\n",
              "       [ 22.5, 108. ],\n",
              "       [ 16. ,  80. ],\n",
              "       [ 19. ,  87. ],\n",
              "       [ 20. ,  96. ],\n",
              "       [ 28.5, 119. ],\n",
              "       [ 26.5, 102. ],\n",
              "       [ 21.5,  86. ],\n",
              "       [ 21. ,  82. ],\n",
              "       [ 21. ,  85. ],\n",
              "       [ 21.5,  86. ],\n",
              "       [ 28.5,  92. ],\n",
              "       [ 24.5,  88. ],\n",
              "       [ 22. ,  80. ],\n",
              "       [ 18. , 122. ],\n",
              "       [ 20. , 104. ],\n",
              "       [ 24. ,  98. ],\n",
              "       [ 21.5, 106. ],\n",
              "       [ 17.5,  85. ],\n",
              "       [ 18.5,  94. ],\n",
              "       [ 21. ,  89. ],\n",
              "       [ 25. ,  96. ],\n",
              "       [ 19.5,  88. ],\n",
              "       [ 24. , 101. ],\n",
              "       [ 21. ,  96. ],\n",
              "       [ 20. ,  89. ],\n",
              "       [ 23.5,  97. ],\n",
              "       [ 20. ,  92. ],\n",
              "       [ 18.5, 112. ],\n",
              "       [ 21. , 102. ],\n",
              "       [ 20. ,  80. ],\n",
              "       [ 21.5,  86. ],\n",
              "       [ 21.5,  92. ],\n",
              "       [ 21.5, 113. ],\n",
              "       [ 24. , 123. ],\n",
              "       [ 22. , 112. ],\n",
              "       [ 25.5, 116. ],\n",
              "       [ 18.5,  98. ],\n",
              "       [ 20. , 103. ],\n",
              "       [ 22. ,  93. ],\n",
              "       [ 19.5,  89. ],\n",
              "       [ 27. ,  97. ],\n",
              "       [ 25. ,  98. ],\n",
              "       [ 22.5,  89. ],\n",
              "       [ 21. ,  88. ],\n",
              "       [ 20. , 107. ],\n",
              "       [ 22. , 106. ],\n",
              "       [ 18.5, 106. ],\n",
              "       [ 22. ,  90. ],\n",
              "       [ 22.5,  88. ],\n",
              "       [ 23. , 111. ],\n",
              "       [ 19.5,  88. ],\n",
              "       [ 24.5, 105. ],\n",
              "       [ 25. , 112. ],\n",
              "       [ 19. ,  96. ],\n",
              "       [ 19.5,  86. ],\n",
              "       [ 20. ,  91. ],\n",
              "       [ 20.5,  95. ],\n",
              "       [ 23. , 102. ],\n",
              "       [ 20. , 120. ],\n",
              "       [ 20. , 120. ],\n",
              "       [ 24.5,  96. ]])"
            ]
          },
          "metadata": {},
          "execution_count": 22
        }
      ]
    },
    {
      "cell_type": "code",
      "source": [
        "\n",
        "from pandas.core.common import random_state\n",
        "from sklearn.cluster import KMeans\n",
        "wcss=[]\n",
        "for i in range(1,11):\n",
        "  kmeans=KMeans(n_clusters=i,init='k-means++',random_state=42)\n",
        "  kmeans.fit(X)\n",
        "  wcss.append(kmeans.inertia_)\n",
        "  print(kmeans.inertia_)\n"
      ],
      "metadata": {
        "colab": {
          "base_uri": "https://localhost:8080/"
        },
        "id": "vS6pjMs0U46r",
        "outputId": "23677ae3-439e-47a7-b45a-f7a288d48b89"
      },
      "execution_count": 23,
      "outputs": [
        {
          "output_type": "stream",
          "name": "stdout",
          "text": [
            "38080.137808988766\n",
            "15481.412287933092\n",
            "9047.549896539731\n",
            "5956.8148745015405\n",
            "4767.219739463601\n",
            "3944.450773557809\n",
            "3375.9864465915584\n",
            "2833.602116710369\n",
            "2483.5445398603006\n",
            "2271.5598296083763\n"
          ]
        }
      ]
    },
    {
      "cell_type": "code",
      "source": [
        "plt.plot(range(1,11),wcss)\n",
        "plt.title('The elbow method')\n",
        "plt.xlabel('number of cluster')\n",
        "plt.ylabel('wcss')\n",
        "plt.show()"
      ],
      "metadata": {
        "colab": {
          "base_uri": "https://localhost:8080/",
          "height": 295
        },
        "id": "0WYdLDj2Ww8t",
        "outputId": "462b551f-73d2-45c8-82f1-124531b04476"
      },
      "execution_count": 24,
      "outputs": [
        {
          "output_type": "display_data",
          "data": {
            "image/png": "[encoded data removed]",
            "text/plain": [
              "<Figure size 432x288 with 1 Axes>"
            ]
          },
          "metadata": {
            "needs_background": "light"
          }
        }
      ]
    },
    {
      "cell_type": "code",
      "source": [
        "kmeans=KMeans(n_clusters=4,init='kmean++',random_state=42)\n",
        "y_kmeans=kmeans.fit_predict(X)\n",
        "type(X)\n",
        "y_kmeans"
      ],
      "metadata": {
        "colab": {
          "base_uri": "https://localhost:8080/",
          "height": 380
        },
        "id": "TZu8pwrzXZ4_",
        "outputId": "e1250ded-6229-4f28-8de4-10436db96eca"
      },
      "execution_count": 25,
      "outputs": [
        {
          "output_type": "error",
          "ename": "ValueError",
          "evalue": "ignored",
          "traceback": [
            "\u001b[0;31m---------------------------------------------------------------------------\u001b[0m",
            "\u001b[0;31mValueError\u001b[0m                                Traceback (most recent call last)",
            "\u001b[0;32m<ipython-input-25-6332e8a079e2>\u001b[0m in \u001b[0;36m<module>\u001b[0;34m()\u001b[0m\n\u001b[1;32m      1\u001b[0m \u001b[0mkmeans\u001b[0m\u001b[0;34m=\u001b[0m\u001b[0mKMeans\u001b[0m\u001b[0;34m(\u001b[0m\u001b[0mn_clusters\u001b[0m\u001b[0;34m=\u001b[0m\u001b[0;36m4\u001b[0m\u001b[0;34m,\u001b[0m\u001b[0minit\u001b[0m\u001b[0;34m=\u001b[0m\u001b[0;34m'kmean++'\u001b[0m\u001b[0;34m,\u001b[0m\u001b[0mrandom_state\u001b[0m\u001b[0;34m=\u001b[0m\u001b[0;36m42\u001b[0m\u001b[0;34m)\u001b[0m\u001b[0;34m\u001b[0m\u001b[0;34m\u001b[0m\u001b[0m\n\u001b[0;32m----> 2\u001b[0;31m \u001b[0my_kmeans\u001b[0m\u001b[0;34m=\u001b[0m\u001b[0mkmeans\u001b[0m\u001b[0;34m.\u001b[0m\u001b[0mfit_predict\u001b[0m\u001b[0;34m(\u001b[0m\u001b[0mX\u001b[0m\u001b[0;34m)\u001b[0m\u001b[0;34m\u001b[0m\u001b[0;34m\u001b[0m\u001b[0m\n\u001b[0m\u001b[1;32m      3\u001b[0m \u001b[0mtype\u001b[0m\u001b[0;34m(\u001b[0m\u001b[0mX\u001b[0m\u001b[0;34m)\u001b[0m\u001b[0;34m\u001b[0m\u001b[0;34m\u001b[0m\u001b[0m\n\u001b[1;32m      4\u001b[0m \u001b[0my_kmeans\u001b[0m\u001b[0;34m\u001b[0m\u001b[0;34m\u001b[0m\u001b[0m\n",
            "\u001b[0;32m/usr/local/lib/python3.7/dist-packages/sklearn/cluster/_kmeans.py\u001b[0m in \u001b[0;36mfit_predict\u001b[0;34m(self, X, y, sample_weight)\u001b[0m\n\u001b[1;32m   1253\u001b[0m             \u001b[0mIndex\u001b[0m \u001b[0mof\u001b[0m \u001b[0mthe\u001b[0m \u001b[0mcluster\u001b[0m \u001b[0meach\u001b[0m \u001b[0msample\u001b[0m \u001b[0mbelongs\u001b[0m \u001b[0mto\u001b[0m\u001b[0;34m.\u001b[0m\u001b[0;34m\u001b[0m\u001b[0;34m\u001b[0m\u001b[0m\n\u001b[1;32m   1254\u001b[0m         \"\"\"\n\u001b[0;32m-> 1255\u001b[0;31m         \u001b[0;32mreturn\u001b[0m \u001b[0mself\u001b[0m\u001b[0;34m.\u001b[0m\u001b[0mfit\u001b[0m\u001b[0;34m(\u001b[0m\u001b[0mX\u001b[0m\u001b[0;34m,\u001b[0m \u001b[0msample_weight\u001b[0m\u001b[0;34m=\u001b[0m\u001b[0msample_weight\u001b[0m\u001b[0;34m)\u001b[0m\u001b[0;34m.\u001b[0m\u001b[0mlabels_\u001b[0m\u001b[0;34m\u001b[0m\u001b[0;34m\u001b[0m\u001b[0m\n\u001b[0m\u001b[1;32m   1256\u001b[0m \u001b[0;34m\u001b[0m\u001b[0m\n\u001b[1;32m   1257\u001b[0m     \u001b[0;32mdef\u001b[0m \u001b[0mfit_transform\u001b[0m\u001b[0;34m(\u001b[0m\u001b[0mself\u001b[0m\u001b[0;34m,\u001b[0m \u001b[0mX\u001b[0m\u001b[0;34m,\u001b[0m \u001b[0my\u001b[0m\u001b[0;34m=\u001b[0m\u001b[0;32mNone\u001b[0m\u001b[0;34m,\u001b[0m \u001b[0msample_weight\u001b[0m\u001b[0;34m=\u001b[0m\u001b[0;32mNone\u001b[0m\u001b[0;34m)\u001b[0m\u001b[0;34m:\u001b[0m\u001b[0;34m\u001b[0m\u001b[0;34m\u001b[0m\u001b[0m\n",
            "\u001b[0;32m/usr/local/lib/python3.7/dist-packages/sklearn/cluster/_kmeans.py\u001b[0m in \u001b[0;36mfit\u001b[0;34m(self, X, y, sample_weight)\u001b[0m\n\u001b[1;32m   1144\u001b[0m         )\n\u001b[1;32m   1145\u001b[0m \u001b[0;34m\u001b[0m\u001b[0m\n\u001b[0;32m-> 1146\u001b[0;31m         \u001b[0mself\u001b[0m\u001b[0;34m.\u001b[0m\u001b[0m_check_params\u001b[0m\u001b[0;34m(\u001b[0m\u001b[0mX\u001b[0m\u001b[0;34m)\u001b[0m\u001b[0;34m\u001b[0m\u001b[0;34m\u001b[0m\u001b[0m\n\u001b[0m\u001b[1;32m   1147\u001b[0m         \u001b[0mrandom_state\u001b[0m \u001b[0;34m=\u001b[0m \u001b[0mcheck_random_state\u001b[0m\u001b[0;34m(\u001b[0m\u001b[0mself\u001b[0m\u001b[0;34m.\u001b[0m\u001b[0mrandom_state\u001b[0m\u001b[0;34m)\u001b[0m\u001b[0;34m\u001b[0m\u001b[0;34m\u001b[0m\u001b[0m\n\u001b[1;32m   1148\u001b[0m         \u001b[0msample_weight\u001b[0m \u001b[0;34m=\u001b[0m \u001b[0m_check_sample_weight\u001b[0m\u001b[0;34m(\u001b[0m\u001b[0msample_weight\u001b[0m\u001b[0;34m,\u001b[0m \u001b[0mX\u001b[0m\u001b[0;34m,\u001b[0m \u001b[0mdtype\u001b[0m\u001b[0;34m=\u001b[0m\u001b[0mX\u001b[0m\u001b[0;34m.\u001b[0m\u001b[0mdtype\u001b[0m\u001b[0;34m)\u001b[0m\u001b[0;34m\u001b[0m\u001b[0;34m\u001b[0m\u001b[0m\n",
            "\u001b[0;32m/usr/local/lib/python3.7/dist-packages/sklearn/cluster/_kmeans.py\u001b[0m in \u001b[0;36m_check_params\u001b[0;34m(self, X)\u001b[0m\n\u001b[1;32m    977\u001b[0m         ):\n\u001b[1;32m    978\u001b[0m             raise ValueError(\n\u001b[0;32m--> 979\u001b[0;31m                 \u001b[0;34m\"init should be either 'k-means++', 'random', a ndarray or a \"\u001b[0m\u001b[0;34m\u001b[0m\u001b[0;34m\u001b[0m\u001b[0m\n\u001b[0m\u001b[1;32m    980\u001b[0m                 \u001b[0;34mf\"callable, got '{self.init}' instead.\"\u001b[0m\u001b[0;34m\u001b[0m\u001b[0;34m\u001b[0m\u001b[0m\n\u001b[1;32m    981\u001b[0m             )\n",
            "\u001b[0;31mValueError\u001b[0m: init should be either 'k-means++', 'random', a ndarray or a callable, got 'kmean++' instead."
          ]
        }
      ]
    }
  ]
}